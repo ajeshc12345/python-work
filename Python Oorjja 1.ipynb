{
 "cells": [
  {
   "cell_type": "code",
   "execution_count": 31,
   "id": "28336894",
   "metadata": {},
   "outputs": [
    {
     "data": {
      "text/html": [
       "<div>\n",
       "<style scoped>\n",
       "    .dataframe tbody tr th:only-of-type {\n",
       "        vertical-align: middle;\n",
       "    }\n",
       "\n",
       "    .dataframe tbody tr th {\n",
       "        vertical-align: top;\n",
       "    }\n",
       "\n",
       "    .dataframe thead th {\n",
       "        text-align: right;\n",
       "    }\n",
       "</style>\n",
       "<table border=\"1\" class=\"dataframe\">\n",
       "  <thead>\n",
       "    <tr style=\"text-align: right;\">\n",
       "      <th></th>\n",
       "      <th>Timestamp</th>\n",
       "      <th>NAME</th>\n",
       "      <th>Place</th>\n",
       "      <th>Designation</th>\n",
       "      <th>GENDER</th>\n",
       "      <th>EDUCATION</th>\n",
       "      <th>Age</th>\n",
       "      <th>Number of members in your family ?</th>\n",
       "      <th>Size of your shirt?</th>\n",
       "      <th>Number of knives at your home?</th>\n",
       "      <th>Number of chairs in your home?</th>\n",
       "      <th>Which is your favorite color</th>\n",
       "      <th>How many liters of milk are being bought every day in your house?</th>\n",
       "      <th>Height in cm</th>\n",
       "      <th>Weight in kg</th>\n",
       "    </tr>\n",
       "  </thead>\n",
       "  <tbody>\n",
       "    <tr>\n",
       "      <th>0</th>\n",
       "      <td>2021/07/27 2:47:35 PM GMT+5:30</td>\n",
       "      <td>Anjali Manuel</td>\n",
       "      <td>Kannur</td>\n",
       "      <td>Student</td>\n",
       "      <td>FEMALE</td>\n",
       "      <td>Post graduation(PG)</td>\n",
       "      <td>25</td>\n",
       "      <td>4</td>\n",
       "      <td>L</td>\n",
       "      <td>7</td>\n",
       "      <td>15</td>\n",
       "      <td>Black</td>\n",
       "      <td>1 Liter</td>\n",
       "      <td>156</td>\n",
       "      <td>56</td>\n",
       "    </tr>\n",
       "    <tr>\n",
       "      <th>1</th>\n",
       "      <td>2021/07/27 2:48:44 PM GMT+5:30</td>\n",
       "      <td>Mukund Bhaskaran</td>\n",
       "      <td>Eranakulam</td>\n",
       "      <td>Student</td>\n",
       "      <td>MALE</td>\n",
       "      <td>Graduation(Degree)(Bcom)</td>\n",
       "      <td>37</td>\n",
       "      <td>5</td>\n",
       "      <td>XL</td>\n",
       "      <td>3</td>\n",
       "      <td>9</td>\n",
       "      <td>Blue</td>\n",
       "      <td>3</td>\n",
       "      <td>185</td>\n",
       "      <td>92</td>\n",
       "    </tr>\n",
       "    <tr>\n",
       "      <th>2</th>\n",
       "      <td>2021/07/27 2:50:08 PM GMT+5:30</td>\n",
       "      <td>Akshaya R</td>\n",
       "      <td>Thiruvananthapuram</td>\n",
       "      <td>Student</td>\n",
       "      <td>FEMALE</td>\n",
       "      <td>12 (higher secondary)</td>\n",
       "      <td>22</td>\n",
       "      <td>My Family- 3</td>\n",
       "      <td>XL</td>\n",
       "      <td>4</td>\n",
       "      <td>9</td>\n",
       "      <td>Blue, Red</td>\n",
       "      <td>1</td>\n",
       "      <td>152</td>\n",
       "      <td>56</td>\n",
       "    </tr>\n",
       "    <tr>\n",
       "      <th>3</th>\n",
       "      <td>2021/07/27 2:50:30 PM GMT+5:30</td>\n",
       "      <td>Anusree</td>\n",
       "      <td>Chalakudy</td>\n",
       "      <td>Teacher</td>\n",
       "      <td>FEMALE</td>\n",
       "      <td>Post graduation(PG)</td>\n",
       "      <td>25</td>\n",
       "      <td>5</td>\n",
       "      <td>L</td>\n",
       "      <td>3</td>\n",
       "      <td>12</td>\n",
       "      <td>Blue</td>\n",
       "      <td>1</td>\n",
       "      <td>163</td>\n",
       "      <td>60</td>\n",
       "    </tr>\n",
       "  </tbody>\n",
       "</table>\n",
       "</div>"
      ],
      "text/plain": [
       "                        Timestamp              NAME               Place  \\\n",
       "0  2021/07/27 2:47:35 PM GMT+5:30     Anjali Manuel              Kannur   \n",
       "1  2021/07/27 2:48:44 PM GMT+5:30  Mukund Bhaskaran          Eranakulam   \n",
       "2  2021/07/27 2:50:08 PM GMT+5:30         Akshaya R  Thiruvananthapuram   \n",
       "3  2021/07/27 2:50:30 PM GMT+5:30           Anusree           Chalakudy   \n",
       "\n",
       "  Designation  GENDER                 EDUCATION  Age  \\\n",
       "0     Student  FEMALE       Post graduation(PG)   25   \n",
       "1     Student    MALE  Graduation(Degree)(Bcom)   37   \n",
       "2     Student  FEMALE     12 (higher secondary)   22   \n",
       "3     Teacher  FEMALE       Post graduation(PG)   25   \n",
       "\n",
       "  Number of members in your family ? Size of your shirt?  \\\n",
       "0                                  4                   L   \n",
       "1                                  5                  XL   \n",
       "2                       My Family- 3                  XL   \n",
       "3                                  5                   L   \n",
       "\n",
       "  Number of knives at your home? Number of chairs in your home?  \\\n",
       "0                              7                             15   \n",
       "1                              3                              9   \n",
       "2                              4                              9   \n",
       "3                              3                             12   \n",
       "\n",
       "  Which is your favorite color  \\\n",
       "0                        Black   \n",
       "1                         Blue   \n",
       "2                    Blue, Red   \n",
       "3                         Blue   \n",
       "\n",
       "  How many liters of milk are being bought every day in your house?  \\\n",
       "0                                            1 Liter                  \n",
       "1                                                  3                  \n",
       "2                                                  1                  \n",
       "3                                                  1                  \n",
       "\n",
       "   Height in cm  Weight in kg  \n",
       "0           156            56  \n",
       "1           185            92  \n",
       "2           152            56  \n",
       "3           163            60  "
      ]
     },
     "execution_count": 31,
     "metadata": {},
     "output_type": "execute_result"
    }
   ],
   "source": [
    "import pandas as pd\n",
    "\n",
    "oorjja  = pd.read_csv('Oorjja.csv')\n",
    "oorjja\n",
    "oorjja.head()\n",
    "oorjja.tail()\n",
    "oorjja.head(2)\n",
    "oorjja.tail(3)\n",
    "oorjja.head(4)\n",
    "\n",
    "\n",
    "\n"
   ]
  },
  {
   "cell_type": "code",
   "execution_count": 32,
   "id": "c514bfd7",
   "metadata": {},
   "outputs": [
    {
     "data": {
      "text/plain": [
       "Index(['Timestamp', 'NAME', 'Place', 'Designation', 'GENDER', 'EDUCATION',\n",
       "       'Age', 'Number of members in your family ?', 'Size of your shirt?',\n",
       "       'Number of knives at your home?', 'Number of chairs in your home?',\n",
       "       'Which is your favorite color',\n",
       "       'How many liters of milk are being bought every day in your house?',\n",
       "       'Height in cm', 'Weight in kg'],\n",
       "      dtype='object')"
      ]
     },
     "execution_count": 32,
     "metadata": {},
     "output_type": "execute_result"
    }
   ],
   "source": [
    "oorjja.columns"
   ]
  },
  {
   "cell_type": "code",
   "execution_count": 33,
   "id": "97f3f5ae",
   "metadata": {},
   "outputs": [
    {
     "data": {
      "text/plain": [
       "(19, 15)"
      ]
     },
     "execution_count": 33,
     "metadata": {},
     "output_type": "execute_result"
    }
   ],
   "source": [
    "oorjja.shape\n",
    "# 19 rows and 15 columns"
   ]
  },
  {
   "cell_type": "code",
   "execution_count": 34,
   "id": "680e8841",
   "metadata": {},
   "outputs": [
    {
     "data": {
      "text/plain": [
       "Timestamp                                                            object\n",
       "NAME                                                                 object\n",
       "Place                                                                object\n",
       "Designation                                                          object\n",
       "GENDER                                                               object\n",
       "EDUCATION                                                            object\n",
       "Age                                                                   int64\n",
       "Number of members in your family ?                                   object\n",
       "Size of your shirt?                                                  object\n",
       "Number of knives at your home?                                       object\n",
       "Number of chairs in your home?                                       object\n",
       "Which is your favorite color                                         object\n",
       "How many liters of milk are being bought every day in your house?    object\n",
       "Height in cm                                                          int64\n",
       "Weight in kg                                                          int64\n",
       "dtype: object"
      ]
     },
     "execution_count": 34,
     "metadata": {},
     "output_type": "execute_result"
    }
   ],
   "source": [
    "oorjja.dtypes"
   ]
  },
  {
   "cell_type": "code",
   "execution_count": 35,
   "id": "1ddbe74f",
   "metadata": {},
   "outputs": [
    {
     "name": "stderr",
     "output_type": "stream",
     "text": [
      "C:\\Users\\ajesh\\AppData\\Local\\Temp\\ipykernel_16540\\1207391092.py:1: FutureWarning: The default value of numeric_only in DataFrame.mean is deprecated. In a future version, it will default to False. In addition, specifying 'numeric_only=None' is deprecated. Select only valid columns or specify the value of numeric_only to silence this warning.\n",
      "  oorjja.mean()\n"
     ]
    },
    {
     "data": {
      "text/plain": [
       "Age              24.789474\n",
       "Height in cm    159.789474\n",
       "Weight in kg     56.263158\n",
       "dtype: float64"
      ]
     },
     "execution_count": 35,
     "metadata": {},
     "output_type": "execute_result"
    }
   ],
   "source": [
    "oorjja.mean()"
   ]
  },
  {
   "cell_type": "code",
   "execution_count": 36,
   "id": "dfafaa8b",
   "metadata": {},
   "outputs": [
    {
     "name": "stderr",
     "output_type": "stream",
     "text": [
      "C:\\Users\\ajesh\\AppData\\Local\\Temp\\ipykernel_16540\\3903466364.py:1: FutureWarning: The default value of numeric_only in DataFrame.median is deprecated. In a future version, it will default to False. In addition, specifying 'numeric_only=None' is deprecated. Select only valid columns or specify the value of numeric_only to silence this warning.\n",
      "  oorjja.median()\n"
     ]
    },
    {
     "data": {
      "text/plain": [
       "Age              23.0\n",
       "Height in cm    159.0\n",
       "Weight in kg     56.0\n",
       "dtype: float64"
      ]
     },
     "execution_count": 36,
     "metadata": {},
     "output_type": "execute_result"
    }
   ],
   "source": [
    "oorjja.median()"
   ]
  },
  {
   "cell_type": "code",
   "execution_count": 37,
   "id": "bab9af4c",
   "metadata": {},
   "outputs": [],
   "source": [
    "#oorjja.mode()"
   ]
  },
  {
   "cell_type": "code",
   "execution_count": 41,
   "id": "db132995",
   "metadata": {},
   "outputs": [
    {
     "data": {
      "text/plain": [
       "Timestamp                                                            2021/07/27 2:47:35 PM GMT+5:30\n",
       "NAME                                                                                       ANJU P K\n",
       "Place                                                                                     Alappuzha\n",
       "Designation                                                                                 Student\n",
       "GENDER                                                                                       FEMALE\n",
       "EDUCATION                                                                     12 (higher secondary)\n",
       "Age                                                                                              20\n",
       "Number of members in your family ?                                                                3\n",
       "Size of your shirt?                                                                               L\n",
       "Number of knives at your home?                                                                   15\n",
       "Number of chairs in your home?                                                                   10\n",
       "Which is your favorite color                                                                  Black\n",
       "How many liters of milk are being bought every day in your house?                                 1\n",
       "Height in cm                                                                                    144\n",
       "Weight in kg                                                                                     45\n",
       "dtype: object"
      ]
     },
     "execution_count": 41,
     "metadata": {},
     "output_type": "execute_result"
    }
   ],
   "source": [
    "oorjja.min()"
   ]
  },
  {
   "cell_type": "code",
   "execution_count": 40,
   "id": "030ce2dc",
   "metadata": {},
   "outputs": [
    {
     "data": {
      "text/plain": [
       "Timestamp                                                            2023/04/04 11:31:38 AM GMT+5:30\n",
       "NAME                                                                                    Vince Wilson\n",
       "Place                                                                                       thrissur\n",
       "Designation                                                                                  Teacher\n",
       "GENDER                                                                                          MALE\n",
       "EDUCATION                                                                        Post graduation(PG)\n",
       "Age                                                                                               37\n",
       "Number of members in your family ?                                                              four\n",
       "Size of your shirt?                                                                               XS\n",
       "Number of knives at your home?                                                                  four\n",
       "Number of chairs in your home?                                                                 eight\n",
       "Which is your favorite color                                                                   white\n",
       "How many liters of milk are being bought every day in your house?                                 No\n",
       "Height in cm                                                                                     185\n",
       "Weight in kg                                                                                      92\n",
       "dtype: object"
      ]
     },
     "execution_count": 40,
     "metadata": {},
     "output_type": "execute_result"
    }
   ],
   "source": [
    "oorjja.max()"
   ]
  },
  {
   "cell_type": "code",
   "execution_count": null,
   "id": "338a114a",
   "metadata": {},
   "outputs": [],
   "source": []
  }
 ],
 "metadata": {
  "kernelspec": {
   "display_name": "Python 3 (ipykernel)",
   "language": "python",
   "name": "python3"
  },
  "language_info": {
   "codemirror_mode": {
    "name": "ipython",
    "version": 3
   },
   "file_extension": ".py",
   "mimetype": "text/x-python",
   "name": "python",
   "nbconvert_exporter": "python",
   "pygments_lexer": "ipython3",
   "version": "3.10.9"
  }
 },
 "nbformat": 4,
 "nbformat_minor": 5
}
